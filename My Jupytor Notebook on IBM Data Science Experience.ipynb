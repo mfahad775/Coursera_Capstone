{
    "nbformat_minor": 1, 
    "cells": [
        {
            "source": "# My Jupytor Notebook on IBM Data Science Experience", 
            "cell_type": "markdown", 
            "metadata": {
                "collapsed": true
            }
        }, 
        {
            "source": "Muhammad Fahad\nDesired: Data Analyst.", 
            "cell_type": "markdown", 
            "metadata": {}
        }, 
        {
            "source": "I am interested in Data Science because \"I love to play with Data and get insightful results out of it. Then turn Data insights and results in business growth.\" ", 
            "cell_type": "markdown", 
            "metadata": {}
        }, 
        {
            "source": "This is simple examples of Dataframes In pandas.\nWhere we have created some Create dataframe\n", 
            "cell_type": "markdown", 
            "metadata": {}
        }, 
        {
            "source": "import pandas as pd\nimport numpy as np\nraw_data = {'first_name': ['Jason', 'Molly', 'Tina', 'Jake', 'Amy'], \n        'last_name': ['Miller', 'Jacobson', 'Ali', 'Milner', 'Cooze'], \n        'age': [42, 52, 36, 24, 73], \n        'preTestScore': [4, 24, 31, 2, 3],\n        'postTestScore': [25, 94, 57, 62, 70]}\ndf = pd.DataFrame(raw_data, columns = ['first_name', 'last_name', 'age', 'preTestScore', 'postTestScore'])\ndf\n", 
            "cell_type": "code", 
            "metadata": {}, 
            "outputs": [
                {
                    "output_type": "execute_result", 
                    "data": {
                        "text/html": "<div>\n<style scoped>\n    .dataframe tbody tr th:only-of-type {\n        vertical-align: middle;\n    }\n\n    .dataframe tbody tr th {\n        vertical-align: top;\n    }\n\n    .dataframe thead th {\n        text-align: right;\n    }\n</style>\n<table border=\"1\" class=\"dataframe\">\n  <thead>\n    <tr style=\"text-align: right;\">\n      <th></th>\n      <th>first_name</th>\n      <th>last_name</th>\n      <th>age</th>\n      <th>preTestScore</th>\n      <th>postTestScore</th>\n    </tr>\n  </thead>\n  <tbody>\n    <tr>\n      <th>0</th>\n      <td>Jason</td>\n      <td>Miller</td>\n      <td>42</td>\n      <td>4</td>\n      <td>25</td>\n    </tr>\n    <tr>\n      <th>1</th>\n      <td>Molly</td>\n      <td>Jacobson</td>\n      <td>52</td>\n      <td>24</td>\n      <td>94</td>\n    </tr>\n    <tr>\n      <th>2</th>\n      <td>Tina</td>\n      <td>Ali</td>\n      <td>36</td>\n      <td>31</td>\n      <td>57</td>\n    </tr>\n    <tr>\n      <th>3</th>\n      <td>Jake</td>\n      <td>Milner</td>\n      <td>24</td>\n      <td>2</td>\n      <td>62</td>\n    </tr>\n    <tr>\n      <th>4</th>\n      <td>Amy</td>\n      <td>Cooze</td>\n      <td>73</td>\n      <td>3</td>\n      <td>70</td>\n    </tr>\n  </tbody>\n</table>\n</div>", 
                        "text/plain": "  first_name last_name  age  preTestScore  postTestScore\n0      Jason    Miller   42             4             25\n1      Molly  Jacobson   52            24             94\n2       Tina       Ali   36            31             57\n3       Jake    Milner   24             2             62\n4        Amy     Cooze   73             3             70"
                    }, 
                    "execution_count": 1, 
                    "metadata": {}
                }
            ], 
            "execution_count": 1
        }, 
        {
            "source": "print(\"Hello Capstone Project Course!\")", 
            "cell_type": "code", 
            "metadata": {}, 
            "outputs": [
                {
                    "output_type": "stream", 
                    "name": "stdout", 
                    "text": "Hello Capstone Project Course!\n"
                }
            ], 
            "execution_count": 2
        }, 
        {
            "source": "  \n<html>\n<body>\n\n<h2>An Unordered HTML List</h2>\n\n<ul>\n  <li>Coffee</li>\n  <li>Tea</li>\n  <li>Milk</li>\n</ul>  \n\n<h2>An Ordered HTML List</h2>\n\n<ol>\n  <li>Coffee</li>\n  <li>Tea</li>\n  <li>Milk</li>\n</ol> \n\n</body>\n</html>\n", 
            "cell_type": "markdown", 
            "metadata": {
                "raw_mimetype": "text/html"
            }
        }, 
        {
            "source": "", 
            "cell_type": "code", 
            "metadata": {}, 
            "outputs": [], 
            "execution_count": null
        }
    ], 
    "metadata": {
        "kernelspec": {
            "display_name": "Python 3.5", 
            "name": "python3", 
            "language": "python"
        }, 
        "language_info": {
            "mimetype": "text/x-python", 
            "nbconvert_exporter": "python", 
            "version": "3.5.5", 
            "name": "python", 
            "file_extension": ".py", 
            "pygments_lexer": "ipython3", 
            "codemirror_mode": {
                "version": 3, 
                "name": "ipython"
            }
        }, 
        "celltoolbar": "Raw Cell Format"
    }, 
    "nbformat": 4
}